{
 "cells": [
  {
   "cell_type": "code",
   "execution_count": 1,
   "metadata": {},
   "outputs": [
    {
     "name": "stderr",
     "output_type": "stream",
     "text": [
      "Using TensorFlow backend.\n",
      "/home/gautham/.local/lib/python2.7/site-packages/sklearn/cross_validation.py:41: DeprecationWarning: This module was deprecated in version 0.18 in favor of the model_selection module into which all the refactored classes and functions are moved. Also note that the interface of the new CV iterators are different from that of this module. This module will be removed in 0.20.\n",
      "  \"This module will be removed in 0.20.\", DeprecationWarning)\n"
     ]
    }
   ],
   "source": [
    "import numpy as np\n",
    "import pandas as pd\n",
    "from keras.models import Sequential\n",
    "from keras.layers import Dense\n",
    "from keras.wrappers.scikit_learn import KerasRegressor\n",
    "from sklearn.cross_validation import cross_val_score, KFold\n",
    "from sklearn.preprocessing import StandardScaler\n",
    "from sklearn.pipeline import Pipeline\n",
    "import keras\n"
   ]
  },
  {
   "cell_type": "code",
   "execution_count": 28,
   "metadata": {},
   "outputs": [],
   "source": [
    "\n",
    "## Load the dataset\n",
    "dataframe = pd.read_csv(\"dataset_Facebook.csv\", delimiter=',',header=None)\n",
    "dataset = dataframe.values\n",
    "X_train = dataset[:400,2:18].astype(float)\n",
    "Y_train = dataset[:400,18].astype(float)\n",
    "X_test = dataset[401:,2:18].astype(float)\n",
    "Y_test = dataset[401:,18].astype(float)"
   ]
  },
  {
   "cell_type": "code",
   "execution_count": 29,
   "metadata": {},
   "outputs": [
    {
     "data": {
      "text/plain": [
       "array([[   1.,    4.,    3., ...,    9.,  329.,   38.],\n",
       "       [   1.,    4.,    3., ...,    4.,  128.,   17.],\n",
       "       [   1.,    4.,    2., ...,    1.,  379.,   40.],\n",
       "       ..., \n",
       "       [   1.,    1.,    5., ...,    4.,   93.,   18.],\n",
       "       [   3.,    1.,    4., ...,    7.,   91.,   38.],\n",
       "       [   2.,    1.,    4., ...,    0.,   91.,   28.]])"
      ]
     },
     "execution_count": 29,
     "metadata": {},
     "output_type": "execute_result"
    }
   ],
   "source": [
    "X_test"
   ]
  },
  {
   "cell_type": "code",
   "execution_count": 12,
   "metadata": {
    "collapsed": true
   },
   "outputs": [],
   "source": [
    "scale = np.max(X_train)\n",
    "X_train /= scale\n",
    "X_test /= scale\n",
    "\n",
    "mean = np.std(X_train)\n",
    "X_train -= mean\n",
    "X_test -= mean\n"
   ]
  },
  {
   "cell_type": "code",
   "execution_count": 31,
   "metadata": {},
   "outputs": [
    {
     "ename": "TypeError",
     "evalue": "No loop matching the specified signature and casting\nwas found for ufunc isnan",
     "output_type": "error",
     "traceback": [
      "\u001b[0;31m---------------------------------------------------------------------------\u001b[0m",
      "\u001b[0;31mTypeError\u001b[0m                                 Traceback (most recent call last)",
      "\u001b[0;32m<ipython-input-31-e9f443e4c3f5>\u001b[0m in \u001b[0;36m<module>\u001b[0;34m()\u001b[0m\n\u001b[0;32m----> 1\u001b[0;31m \u001b[0mnp\u001b[0m\u001b[0;34m.\u001b[0m\u001b[0misnan\u001b[0m\u001b[0;34m(\u001b[0m\u001b[0mX_test\u001b[0m\u001b[0;34m,\u001b[0m\u001b[0mdtype\u001b[0m\u001b[0;34m=\u001b[0m\u001b[0mnp\u001b[0m\u001b[0;34m.\u001b[0m\u001b[0mfloat64\u001b[0m\u001b[0;34m)\u001b[0m\u001b[0;34m.\u001b[0m\u001b[0many\u001b[0m\u001b[0;34m(\u001b[0m\u001b[0;34m)\u001b[0m\u001b[0;34m\u001b[0m\u001b[0m\n\u001b[0m",
      "\u001b[0;31mTypeError\u001b[0m: No loop matching the specified signature and casting\nwas found for ufunc isnan"
     ]
    }
   ],
   "source": [
    "np.isnan(X_test,dtype=np.float64).any()\n",
    "\n",
    "\n",
    "\n",
    "\n",
    "\n"
   ]
  },
  {
   "cell_type": "code",
   "execution_count": 32,
   "metadata": {},
   "outputs": [
    {
     "name": "stderr",
     "output_type": "stream",
     "text": [
      "/home/gautham/anaconda2/lib/python2.7/site-packages/ipykernel/__main__.py:3: UserWarning: Update your `Dense` call to the Keras 2 API: `Dense(16, activation=\"relu\", kernel_initializer=\"uniform\", input_dim=16)`\n",
      "  app.launch_new_instance()\n",
      "/home/gautham/anaconda2/lib/python2.7/site-packages/ipykernel/__main__.py:4: UserWarning: Update your `Dense` call to the Keras 2 API: `Dense(8, activation=\"relu\", kernel_initializer=\"uniform\")`\n",
      "/home/gautham/anaconda2/lib/python2.7/site-packages/ipykernel/__main__.py:5: UserWarning: Update your `Dense` call to the Keras 2 API: `Dense(1, activation=\"sigmoid\", kernel_initializer=\"uniform\")`\n"
     ]
    }
   ],
   "source": [
    "# create model\n",
    "model = Sequential()\n",
    "model.add(Dense(16, input_dim=16, init='uniform', activation='relu'))\n",
    "model.add(Dense(8, init='uniform', activation='relu'))\n",
    "model.add(Dense(1, init='uniform', activation='sigmoid'))\n",
    "# Compile model\n",
    "adam = keras.optimizers.Adam(lr=0.001, beta_1=0.9, beta_2=0.999, epsilon=1e-08, decay=0.0)\n",
    "model.compile(loss='binary_crossentropy', optimizer=adam, metrics=['accuracy'])"
   ]
  },
  {
   "cell_type": "code",
   "execution_count": 33,
   "metadata": {},
   "outputs": [
    {
     "name": "stdout",
     "output_type": "stream",
     "text": [
      "Epoch 1/10\n",
      "400/400 [==============================] - 0s - loss: nan - acc: 0.0000e+00           \n",
      "Epoch 2/10\n",
      "400/400 [==============================] - 0s - loss: nan - acc: 0.0000e+00     \n",
      "Epoch 3/10\n",
      "400/400 [==============================] - 0s - loss: nan - acc: 0.0000e+00     \n",
      "Epoch 4/10\n",
      "400/400 [==============================] - 0s - loss: nan - acc: 0.0000e+00     \n",
      "Epoch 5/10\n",
      "400/400 [==============================] - 0s - loss: nan - acc: 0.0000e+00     \n",
      "Epoch 6/10\n",
      "400/400 [==============================] - 0s - loss: nan - acc: 0.0000e+00     \n",
      "Epoch 7/10\n",
      "400/400 [==============================] - 0s - loss: nan - acc: 0.0000e+00     \n",
      "Epoch 8/10\n",
      "400/400 [==============================] - 0s - loss: nan - acc: 0.0000e+00     \n",
      "Epoch 9/10\n",
      "400/400 [==============================] - 0s - loss: nan - acc: 0.0000e+00     \n",
      "Epoch 10/10\n",
      "400/400 [==============================] - 0s - loss: nan - acc: 0.0000e+00     \n"
     ]
    },
    {
     "data": {
      "text/plain": [
       "<keras.callbacks.History at 0x7fee9e4a4fd0>"
      ]
     },
     "execution_count": 33,
     "metadata": {},
     "output_type": "execute_result"
    }
   ],
   "source": [
    "# Fit the model\n",
    "model.fit(X_train, Y_train)"
   ]
  },
  {
   "cell_type": "code",
   "execution_count": null,
   "metadata": {},
   "outputs": [],
   "source": [
    "scores = model.evaluate(X_test, Y_test)\n",
    "print (\"Accuracy: %.4f%%\" %(scores[1]*100))\n",
    "scores"
   ]
  },
  {
   "cell_type": "code",
   "execution_count": null,
   "metadata": {},
   "outputs": [],
   "source": [
    "# scale = StandardScaler()\n",
    "# X_train = scale.fit_transform(X_train)\n",
    "# X_test = scale.fit_transform(X_test)\n",
    "clf = KerasRegressor(build_fn=base_model, nb_epoch=100, batch_size=5,verbose=0)\n",
    "clf.fit(X_test,Y_test)\n"
   ]
  },
  {
   "cell_type": "code",
   "execution_count": null,
   "metadata": {},
   "outputs": [],
   "source": [
    "from sklearn.metrics import mean_absolute_error\n",
    "score = mean_absolute_error(Y_test, clf.predict(X_test))\n",
    "score = mean_absolute_error(Y_train, clf.predict(X_train))\n",
    "score\n"
   ]
  }
 ],
 "metadata": {
  "kernelspec": {
   "display_name": "Python [conda root]",
   "language": "python",
   "name": "conda-root-py"
  },
  "language_info": {
   "codemirror_mode": {
    "name": "ipython",
    "version": 2
   },
   "file_extension": ".py",
   "mimetype": "text/x-python",
   "name": "python",
   "nbconvert_exporter": "python",
   "pygments_lexer": "ipython2",
   "version": "2.7.13"
  }
 },
 "nbformat": 4,
 "nbformat_minor": 2
}
