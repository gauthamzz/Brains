{
 "cells": [
  {
   "cell_type": "code",
   "execution_count": 3,
   "metadata": {
    "collapsed": false
   },
   "outputs": [],
   "source": [
    "import numpy as np\n",
    "import pandas as pd\n",
    "from keras.models import Sequential\n",
    "from keras.layers import Dense\n",
    "from keras.wrappers.scikit_learn import KerasRegressor\n",
    "from sklearn.cross_validation import cross_val_score, KFold\n",
    "from sklearn.preprocessing import StandardScaler\n",
    "from sklearn.pipeline import Pipeline\n",
    "\n",
    "\n",
    "## Load the dataset\n",
    "dataframe = pd.read_csv(\"housing.csv\", delim_whitespace=True,header=None)\n",
    "dataset = dataframe.values\n",
    "X_train = dataset[:400,0:13]\n",
    "Y_train = dataset[:400,13]\n",
    "X_test = dataset[401:,0:13]\n",
    "Y_test = dataset[401:,13]\n"
   ]
  },
  {
   "cell_type": "code",
   "execution_count": 49,
   "metadata": {
    "collapsed": false
   },
   "outputs": [],
   "source": [
    "##define base model\n",
    "def base_model():\n",
    "     model = Sequential()\n",
    "     model.add(Dense(14, input_dim=13, init='normal', activation='relu'))\n",
    "     model.add(Dense(256, init='normal', activation='relu'))\n",
    "     model.add(Dense(1, init='normal'))\n",
    "     model.compile(loss='mean_squared_error', optimizer = 'adam')\n",
    "     return model\n",
    "\n",
    "seed = 7\n",
    "np.random.seed(seed)"
   ]
  },
  {
   "cell_type": "code",
   "execution_count": 50,
   "metadata": {
    "collapsed": false
   },
   "outputs": [
    {
     "name": "stderr",
     "output_type": "stream",
     "text": [
      "/home/gautham/singularity/env/lib/python3.5/site-packages/ipykernel/__main__.py:4: UserWarning: Update your `Dense` call to the Keras 2 API: `Dense(14, activation=\"relu\", input_dim=13, kernel_initializer=\"normal\")`\n",
      "/home/gautham/singularity/env/lib/python3.5/site-packages/ipykernel/__main__.py:5: UserWarning: Update your `Dense` call to the Keras 2 API: `Dense(256, activation=\"relu\", kernel_initializer=\"normal\")`\n",
      "/home/gautham/singularity/env/lib/python3.5/site-packages/ipykernel/__main__.py:6: UserWarning: Update your `Dense` call to the Keras 2 API: `Dense(1, kernel_initializer=\"normal\")`\n"
     ]
    },
    {
     "data": {
      "text/plain": [
       "<keras.callbacks.History at 0x7f0786492b00>"
      ]
     },
     "execution_count": 50,
     "metadata": {},
     "output_type": "execute_result"
    }
   ],
   "source": [
    "scale = StandardScaler()\n",
    "X_train = scale.fit_transform(X_train)\n",
    "X_test = scale.fit_transform(X_test)\n",
    "clf = KerasRegressor(build_fn=base_model, nb_epoch=100, batch_size=5,verbose=0)\n",
    "clf.fit(X_test,Y_test)\n"
   ]
  },
  {
   "cell_type": "code",
   "execution_count": 58,
   "metadata": {
    "collapsed": false
   },
   "outputs": [
    {
     "data": {
      "text/plain": [
       "11.851161926269532"
      ]
     },
     "execution_count": 58,
     "metadata": {},
     "output_type": "execute_result"
    }
   ],
   "source": [
    "from sklearn.metrics import mean_absolute_error\n",
    "score = mean_absolute_error(Y_test, clf.predict(X_test))\n",
    "score = mean_absolute_error(Y_train, clf.predict(X_train))\n",
    "score\n"
   ]
  },
  {
   "cell_type": "code",
   "execution_count": 56,
   "metadata": {
    "collapsed": false
   },
   "outputs": [
    {
     "data": {
      "image/png": "[encoded data removed]",
      "text/plain": [
       "<matplotlib.figure.Figure at 0x7f078625b208>"
      ]
     },
     "metadata": {},
     "output_type": "display_data"
    }
   ],
   "source": [
    "import matplotlib.pyplot as plt\n",
    "plt.plot(X_test[:,2],Y_test,'g--')\n",
    "plt.plot(X_test[:,2],clf.predict(X_test),'b')\n",
    "plt.show()"
   ]
  },
  {
   "cell_type": "code",
   "execution_count": 69,
   "metadata": {
    "collapsed": false
   },
   "outputs": [
    {
     "name": "stderr",
     "output_type": "stream",
     "text": [
      "/home/gautham/singularity/env/lib/python3.5/site-packages/ipykernel/__main__.py:8: UserWarning: Update your `Dense` call to the Keras 2 API: `Dense(14, activation=\"relu\", input_dim=13, kernel_initializer=\"normal\")`\n",
      "/home/gautham/singularity/env/lib/python3.5/site-packages/ipykernel/__main__.py:9: UserWarning: Update your `Dense` call to the Keras 2 API: `Dense(1, activation=\"relu\", kernel_initializer=\"normal\")`\n",
      "/home/gautham/singularity/env/lib/python3.5/site-packages/ipykernel/__main__.py:10: UserWarning: Update your `Dense` call to the Keras 2 API: `Dense(1, kernel_initializer=\"normal\")`\n",
      "/home/gautham/singularity/env/lib/python3.5/site-packages/ipykernel/__main__.py:9: UserWarning: Update your `Dense` call to the Keras 2 API: `Dense(2, activation=\"relu\", kernel_initializer=\"normal\")`\n",
      "/home/gautham/singularity/env/lib/python3.5/site-packages/ipykernel/__main__.py:9: UserWarning: Update your `Dense` call to the Keras 2 API: `Dense(3, activation=\"relu\", kernel_initializer=\"normal\")`\n",
      "/home/gautham/singularity/env/lib/python3.5/site-packages/ipykernel/__main__.py:9: UserWarning: Update your `Dense` call to the Keras 2 API: `Dense(4, activation=\"relu\", kernel_initializer=\"normal\")`\n",
      "/home/gautham/singularity/env/lib/python3.5/site-packages/ipykernel/__main__.py:9: UserWarning: Update your `Dense` call to the Keras 2 API: `Dense(5, activation=\"relu\", kernel_initializer=\"normal\")`\n",
      "/home/gautham/singularity/env/lib/python3.5/site-packages/ipykernel/__main__.py:9: UserWarning: Update your `Dense` call to the Keras 2 API: `Dense(6, activation=\"relu\", kernel_initializer=\"normal\")`\n",
      "/home/gautham/singularity/env/lib/python3.5/site-packages/ipykernel/__main__.py:9: UserWarning: Update your `Dense` call to the Keras 2 API: `Dense(7, activation=\"relu\", kernel_initializer=\"normal\")`\n",
      "/home/gautham/singularity/env/lib/python3.5/site-packages/ipykernel/__main__.py:9: UserWarning: Update your `Dense` call to the Keras 2 API: `Dense(8, activation=\"relu\", kernel_initializer=\"normal\")`\n",
      "/home/gautham/singularity/env/lib/python3.5/site-packages/ipykernel/__main__.py:9: UserWarning: Update your `Dense` call to the Keras 2 API: `Dense(9, activation=\"relu\", kernel_initializer=\"normal\")`\n",
      "/home/gautham/singularity/env/lib/python3.5/site-packages/ipykernel/__main__.py:9: UserWarning: Update your `Dense` call to the Keras 2 API: `Dense(10, activation=\"relu\", kernel_initializer=\"normal\")`\n",
      "/home/gautham/singularity/env/lib/python3.5/site-packages/ipykernel/__main__.py:9: UserWarning: Update your `Dense` call to the Keras 2 API: `Dense(11, activation=\"relu\", kernel_initializer=\"normal\")`\n",
      "/home/gautham/singularity/env/lib/python3.5/site-packages/ipykernel/__main__.py:9: UserWarning: Update your `Dense` call to the Keras 2 API: `Dense(12, activation=\"relu\", kernel_initializer=\"normal\")`\n",
      "/home/gautham/singularity/env/lib/python3.5/site-packages/ipykernel/__main__.py:9: UserWarning: Update your `Dense` call to the Keras 2 API: `Dense(13, activation=\"relu\", kernel_initializer=\"normal\")`\n",
      "/home/gautham/singularity/env/lib/python3.5/site-packages/ipykernel/__main__.py:9: UserWarning: Update your `Dense` call to the Keras 2 API: `Dense(14, activation=\"relu\", kernel_initializer=\"normal\")`\n",
      "/home/gautham/singularity/env/lib/python3.5/site-packages/ipykernel/__main__.py:9: UserWarning: Update your `Dense` call to the Keras 2 API: `Dense(15, activation=\"relu\", kernel_initializer=\"normal\")`\n",
      "/home/gautham/singularity/env/lib/python3.5/site-packages/ipykernel/__main__.py:9: UserWarning: Update your `Dense` call to the Keras 2 API: `Dense(16, activation=\"relu\", kernel_initializer=\"normal\")`\n",
      "/home/gautham/singularity/env/lib/python3.5/site-packages/ipykernel/__main__.py:9: UserWarning: Update your `Dense` call to the Keras 2 API: `Dense(17, activation=\"relu\", kernel_initializer=\"normal\")`\n",
      "/home/gautham/singularity/env/lib/python3.5/site-packages/ipykernel/__main__.py:9: UserWarning: Update your `Dense` call to the Keras 2 API: `Dense(18, activation=\"relu\", kernel_initializer=\"normal\")`\n",
      "/home/gautham/singularity/env/lib/python3.5/site-packages/ipykernel/__main__.py:9: UserWarning: Update your `Dense` call to the Keras 2 API: `Dense(19, activation=\"relu\", kernel_initializer=\"normal\")`\n",
      "/home/gautham/singularity/env/lib/python3.5/site-packages/ipykernel/__main__.py:9: UserWarning: Update your `Dense` call to the Keras 2 API: `Dense(20, activation=\"relu\", kernel_initializer=\"normal\")`\n",
      "/home/gautham/singularity/env/lib/python3.5/site-packages/ipykernel/__main__.py:9: UserWarning: Update your `Dense` call to the Keras 2 API: `Dense(21, activation=\"relu\", kernel_initializer=\"normal\")`\n",
      "/home/gautham/singularity/env/lib/python3.5/site-packages/ipykernel/__main__.py:9: UserWarning: Update your `Dense` call to the Keras 2 API: `Dense(22, activation=\"relu\", kernel_initializer=\"normal\")`\n",
      "/home/gautham/singularity/env/lib/python3.5/site-packages/ipykernel/__main__.py:9: UserWarning: Update your `Dense` call to the Keras 2 API: `Dense(23, activation=\"relu\", kernel_initializer=\"normal\")`\n",
      "/home/gautham/singularity/env/lib/python3.5/site-packages/ipykernel/__main__.py:9: UserWarning: Update your `Dense` call to the Keras 2 API: `Dense(24, activation=\"relu\", kernel_initializer=\"normal\")`\n",
      "/home/gautham/singularity/env/lib/python3.5/site-packages/ipykernel/__main__.py:9: UserWarning: Update your `Dense` call to the Keras 2 API: `Dense(25, activation=\"relu\", kernel_initializer=\"normal\")`\n",
      "/home/gautham/singularity/env/lib/python3.5/site-packages/ipykernel/__main__.py:9: UserWarning: Update your `Dense` call to the Keras 2 API: `Dense(26, activation=\"relu\", kernel_initializer=\"normal\")`\n",
      "/home/gautham/singularity/env/lib/python3.5/site-packages/ipykernel/__main__.py:9: UserWarning: Update your `Dense` call to the Keras 2 API: `Dense(27, activation=\"relu\", kernel_initializer=\"normal\")`\n",
      "/home/gautham/singularity/env/lib/python3.5/site-packages/ipykernel/__main__.py:9: UserWarning: Update your `Dense` call to the Keras 2 API: `Dense(28, activation=\"relu\", kernel_initializer=\"normal\")`\n",
      "/home/gautham/singularity/env/lib/python3.5/site-packages/ipykernel/__main__.py:9: UserWarning: Update your `Dense` call to the Keras 2 API: `Dense(29, activation=\"relu\", kernel_initializer=\"normal\")`\n",
      "/home/gautham/singularity/env/lib/python3.5/site-packages/ipykernel/__main__.py:9: UserWarning: Update your `Dense` call to the Keras 2 API: `Dense(30, activation=\"relu\", kernel_initializer=\"normal\")`\n",
      "/home/gautham/singularity/env/lib/python3.5/site-packages/ipykernel/__main__.py:9: UserWarning: Update your `Dense` call to the Keras 2 API: `Dense(31, activation=\"relu\", kernel_initializer=\"normal\")`\n",
      "/home/gautham/singularity/env/lib/python3.5/site-packages/ipykernel/__main__.py:9: UserWarning: Update your `Dense` call to the Keras 2 API: `Dense(32, activation=\"relu\", kernel_initializer=\"normal\")`\n",
      "/home/gautham/singularity/env/lib/python3.5/site-packages/ipykernel/__main__.py:9: UserWarning: Update your `Dense` call to the Keras 2 API: `Dense(33, activation=\"relu\", kernel_initializer=\"normal\")`\n",
      "/home/gautham/singularity/env/lib/python3.5/site-packages/ipykernel/__main__.py:9: UserWarning: Update your `Dense` call to the Keras 2 API: `Dense(34, activation=\"relu\", kernel_initializer=\"normal\")`\n",
      "/home/gautham/singularity/env/lib/python3.5/site-packages/ipykernel/__main__.py:9: UserWarning: Update your `Dense` call to the Keras 2 API: `Dense(35, activation=\"relu\", kernel_initializer=\"normal\")`\n",
      "/home/gautham/singularity/env/lib/python3.5/site-packages/ipykernel/__main__.py:9: UserWarning: Update your `Dense` call to the Keras 2 API: `Dense(36, activation=\"relu\", kernel_initializer=\"normal\")`\n",
      "/home/gautham/singularity/env/lib/python3.5/site-packages/ipykernel/__main__.py:9: UserWarning: Update your `Dense` call to the Keras 2 API: `Dense(37, activation=\"relu\", kernel_initializer=\"normal\")`\n",
      "/home/gautham/singularity/env/lib/python3.5/site-packages/ipykernel/__main__.py:9: UserWarning: Update your `Dense` call to the Keras 2 API: `Dense(38, activation=\"relu\", kernel_initializer=\"normal\")`\n",
      "/home/gautham/singularity/env/lib/python3.5/site-packages/ipykernel/__main__.py:9: UserWarning: Update your `Dense` call to the Keras 2 API: `Dense(39, activation=\"relu\", kernel_initializer=\"normal\")`\n",
      "/home/gautham/singularity/env/lib/python3.5/site-packages/ipykernel/__main__.py:9: UserWarning: Update your `Dense` call to the Keras 2 API: `Dense(40, activation=\"relu\", kernel_initializer=\"normal\")`\n",
      "/home/gautham/singularity/env/lib/python3.5/site-packages/ipykernel/__main__.py:9: UserWarning: Update your `Dense` call to the Keras 2 API: `Dense(41, activation=\"relu\", kernel_initializer=\"normal\")`\n",
      "/home/gautham/singularity/env/lib/python3.5/site-packages/ipykernel/__main__.py:9: UserWarning: Update your `Dense` call to the Keras 2 API: `Dense(42, activation=\"relu\", kernel_initializer=\"normal\")`\n",
      "/home/gautham/singularity/env/lib/python3.5/site-packages/ipykernel/__main__.py:9: UserWarning: Update your `Dense` call to the Keras 2 API: `Dense(43, activation=\"relu\", kernel_initializer=\"normal\")`\n",
      "/home/gautham/singularity/env/lib/python3.5/site-packages/ipykernel/__main__.py:9: UserWarning: Update your `Dense` call to the Keras 2 API: `Dense(44, activation=\"relu\", kernel_initializer=\"normal\")`\n",
      "/home/gautham/singularity/env/lib/python3.5/site-packages/ipykernel/__main__.py:9: UserWarning: Update your `Dense` call to the Keras 2 API: `Dense(45, activation=\"relu\", kernel_initializer=\"normal\")`\n",
      "/home/gautham/singularity/env/lib/python3.5/site-packages/ipykernel/__main__.py:9: UserWarning: Update your `Dense` call to the Keras 2 API: `Dense(46, activation=\"relu\", kernel_initializer=\"normal\")`\n",
      "/home/gautham/singularity/env/lib/python3.5/site-packages/ipykernel/__main__.py:9: UserWarning: Update your `Dense` call to the Keras 2 API: `Dense(47, activation=\"relu\", kernel_initializer=\"normal\")`\n",
      "/home/gautham/singularity/env/lib/python3.5/site-packages/ipykernel/__main__.py:9: UserWarning: Update your `Dense` call to the Keras 2 API: `Dense(48, activation=\"relu\", kernel_initializer=\"normal\")`\n",
      "/home/gautham/singularity/env/lib/python3.5/site-packages/ipykernel/__main__.py:9: UserWarning: Update your `Dense` call to the Keras 2 API: `Dense(49, activation=\"relu\", kernel_initializer=\"normal\")`\n"
     ]
    }
   ],
   "source": [
    "scores=[]\n",
    "scores2=[]\n",
    "v=[]\n",
    "for i in range(1,50,1):\n",
    "    ##define base model\n",
    "    def base_model():\n",
    "        model = Sequential()\n",
    "        model.add(Dense(14, input_dim=13, init='normal', activation='relu'))\n",
    "        model.add(Dense(i, init='normal', activation='relu'))\n",
    "        model.add(Dense(1, init='normal'))\n",
    "        model.compile(loss='mean_squared_error', optimizer = 'adam')\n",
    "        return model\n",
    "    seed = 7\n",
    "    np.random.seed(seed)\n",
    "    scale = StandardScaler()\n",
    "    X_train = scale.fit_transform(X_train)\n",
    "    X_test = scale.fit_transform(X_test)\n",
    "    clf = KerasRegressor(build_fn=base_model, nb_epoch=100, batch_size=5,verbose=0)\n",
    "    clf.fit(X_test,Y_test)\n",
    "    from sklearn.metrics import mean_absolute_error\n",
    "    score = mean_absolute_error(Y_test, clf.predict(X_test))\n",
    "    scores.append(score)\n",
    "    v.append(i)\n",
    "    score = mean_absolute_error(Y_train, clf.predict(X_train))\n",
    "    scores2.append(score)"
   ]
  },
  {
   "cell_type": "code",
   "execution_count": 70,
   "metadata": {
    "collapsed": false
   },
   "outputs": [
    {
     "data": {
      "image/png": "[encoded data removed]",
      "text/plain": [
       "<matplotlib.figure.Figure at 0x7f0768bfdef0>"
      ]
     },
     "metadata": {},
     "output_type": "display_data"
    }
   ],
   "source": [
    "import matplotlib.pyplot as plt\n",
    "plt.plot(v,scores,'g--')\n",
    "plt.plot(v,scores2,'b')\n",
    "plt.show()"
   ]
  },
  {
   "cell_type": "code",
   "execution_count": null,
   "metadata": {
    "collapsed": true
   },
   "outputs": [],
   "source": []
  }
 ],
 "metadata": {
  "kernelspec": {
   "display_name": "Python 3",
   "language": "python",
   "name": "python3"
  },
  "language_info": {
   "codemirror_mode": {
    "name": "ipython",
    "version": 3
   },
   "file_extension": ".py",
   "mimetype": "text/x-python",
   "name": "python",
   "nbconvert_exporter": "python",
   "pygments_lexer": "ipython3",
   "version": "3.5.2"
  }
 },
 "nbformat": 4,
 "nbformat_minor": 2
}
