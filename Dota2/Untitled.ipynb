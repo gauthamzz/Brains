{
 "cells": [
  {
   "cell_type": "code",
   "execution_count": 2,
   "metadata": {},
   "outputs": [
    {
     "name": "stdout",
     "output_type": "stream",
     "text": [
      "Loading data...\n",
      "Downloading data from https://s3.amazonaws.com/text-datasets/imdb.npz\n",
      "17408000/17464789 [============================>.] - ETA: 0s25000 train sequences\n",
      "25000 test sequences\n",
      "Pad sequences (samples x time)\n",
      "x_train shape: (25000, 80)\n",
      "x_test shape: (25000, 80)\n",
      "Build model...\n",
      "Train...\n",
      "Train on 25000 samples, validate on 25000 samples\n",
      "Epoch 1/15\n",
      "25000/25000 [==============================] - 228s - loss: 0.4602 - acc: 0.7818 - val_loss: 0.3877 - val_acc: 0.8310\n",
      "Epoch 2/15\n",
      "25000/25000 [==============================] - 224s - loss: 0.3011 - acc: 0.8755 - val_loss: 0.3870 - val_acc: 0.8328\n",
      "Epoch 3/15\n",
      "25000/25000 [==============================] - 224s - loss: 0.2102 - acc: 0.9190 - val_loss: 0.4212 - val_acc: 0.8310\n",
      "Epoch 4/15\n",
      "25000/25000 [==============================] - 224s - loss: 0.1429 - acc: 0.9474 - val_loss: 0.4950 - val_acc: 0.8294\n",
      "Epoch 5/15\n",
      "25000/25000 [==============================] - 224s - loss: 0.1021 - acc: 0.9631 - val_loss: 0.5441 - val_acc: 0.8253\n",
      "Epoch 6/15\n",
      "25000/25000 [==============================] - 223s - loss: 0.0782 - acc: 0.9728 - val_loss: 0.6348 - val_acc: 0.8195\n",
      "Epoch 7/15\n",
      "25000/25000 [==============================] - 224s - loss: 0.0555 - acc: 0.9813 - val_loss: 0.6678 - val_acc: 0.8179\n",
      "Epoch 8/15\n",
      "25000/25000 [==============================] - 224s - loss: 0.0388 - acc: 0.9878 - val_loss: 0.8504 - val_acc: 0.8183\n",
      "Epoch 9/15\n",
      "25000/25000 [==============================] - 224s - loss: 0.0378 - acc: 0.9875 - val_loss: 0.7966 - val_acc: 0.8115\n",
      "Epoch 10/15\n",
      "25000/25000 [==============================] - 236s - loss: 0.0230 - acc: 0.9930 - val_loss: 0.9841 - val_acc: 0.7959\n",
      "Epoch 11/15\n",
      "25000/25000 [==============================] - 264s - loss: 0.0190 - acc: 0.9944 - val_loss: 0.9801 - val_acc: 0.8163\n",
      "Epoch 12/15\n",
      "25000/25000 [==============================] - 257s - loss: 0.0209 - acc: 0.9929 - val_loss: 0.8978 - val_acc: 0.8087\n",
      "Epoch 13/15\n",
      "25000/25000 [==============================] - 236s - loss: 0.0145 - acc: 0.9953 - val_loss: 1.0077 - val_acc: 0.8102\n",
      "Epoch 14/15\n",
      "25000/25000 [==============================] - 248s - loss: 0.0099 - acc: 0.9968 - val_loss: 1.0651 - val_acc: 0.8097\n",
      "Epoch 15/15\n",
      "25000/25000 [==============================] - 243s - loss: 0.0119 - acc: 0.9962 - val_loss: 1.1364 - val_acc: 0.8081\n",
      "24992/25000 [============================>.] - ETA: 0sTest score: 1.13641515752\n",
      "Test accuracy: 0.80812\n"
     ]
    }
   ],
   "source": [
    "from __future__ import print_function\n",
    "\n",
    "from keras.preprocessing import sequence\n",
    "from keras.models import Sequential\n",
    "from keras.layers import Dense, Embedding\n",
    "from keras.layers import LSTM\n",
    "from keras.datasets import imdb\n",
    "\n",
    "max_features = 20000\n",
    "maxlen = 80  # cut texts after this number of words (among top max_features most common words)\n",
    "batch_size = 32\n",
    "\n",
    "print('Loading data...')\n",
    "(x_train, y_train), (x_test, y_test) = imdb.load_data(num_words=max_features)\n",
    "print(len(x_train), 'train sequences')\n",
    "print(len(x_test), 'test sequences')\n",
    "\n",
    "print('Pad sequences (samples x time)')\n",
    "x_train = sequence.pad_sequences(x_train, maxlen=maxlen)\n",
    "x_test = sequence.pad_sequences(x_test, maxlen=maxlen)\n",
    "print('x_train shape:', x_train.shape)\n",
    "print('x_test shape:', x_test.shape)\n",
    "\n",
    "print('Build model...')\n",
    "model = Sequential()\n",
    "model.add(Embedding(max_features, 128))\n",
    "model.add(LSTM(128, dropout=0.2, recurrent_dropout=0.2))\n",
    "model.add(Dense(1, activation='sigmoid'))\n",
    "\n",
    "# try using different optimizers and different optimizer configs\n",
    "model.compile(loss='binary_crossentropy',\n",
    "              optimizer='adam',\n",
    "              metrics=['accuracy'])\n",
    "\n",
    "print('Train...')\n",
    "model.fit(x_train, y_train,\n",
    "          batch_size=batch_size,\n",
    "          epochs=15,\n",
    "          validation_data=(x_test, y_test))\n",
    "score, acc = model.evaluate(x_test, y_test,\n",
    "                            batch_size=batch_size)\n",
    "print('Test score:', score)\n",
    "print('Test accuracy:', acc)"
   ]
  },
  {
   "cell_type": "code",
   "execution_count": 6,
   "metadata": {},
   "outputs": [
    {
     "data": {
      "text/plain": [
       "(25000, 80)"
      ]
     },
     "execution_count": 6,
     "metadata": {},
     "output_type": "execute_result"
    }
   ],
   "source": [
    "x_test.shape"
   ]
  },
  {
   "cell_type": "code",
   "execution_count": 5,
   "metadata": {},
   "outputs": [
    {
     "data": {
      "text/plain": [
       "array([[ 0.99998999],\n",
       "       [ 0.88490844],\n",
       "       [ 0.99550724],\n",
       "       ..., \n",
       "       [ 0.99999988],\n",
       "       [ 0.0093706 ],\n",
       "       [ 0.99999297]], dtype=float32)"
      ]
     },
     "execution_count": 5,
     "metadata": {},
     "output_type": "execute_result"
    }
   ],
   "source": [
    "model.predict(x_test)"
   ]
  }
 ],
 "metadata": {
  "kernelspec": {
   "display_name": "Python 3",
   "language": "python",
   "name": "python3"
  },
  "language_info": {
   "codemirror_mode": {
    "name": "ipython",
    "version": 3
   },
   "file_extension": ".py",
   "mimetype": "text/x-python",
   "name": "python",
   "nbconvert_exporter": "python",
   "pygments_lexer": "ipython3",
   "version": "3.5.3"
  }
 },
 "nbformat": 4,
 "nbformat_minor": 2
}
